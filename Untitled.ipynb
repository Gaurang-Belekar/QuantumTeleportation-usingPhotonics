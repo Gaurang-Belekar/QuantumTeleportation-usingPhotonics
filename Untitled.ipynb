{
 "cells": [
  {
   "cell_type": "code",
   "execution_count": 1,
   "id": "6f8adae4",
   "metadata": {},
   "outputs": [],
   "source": [
    "import strawberryfields as sf\n",
    "from strawberryfields.ops import *\n",
    "\n",
    "import numpy as np\n",
    "from numpy import pi, sqrt\n"
   ]
  },
  {
   "cell_type": "code",
   "execution_count": 2,
   "id": "209f4ff5",
   "metadata": {},
   "outputs": [],
   "source": [
    "prog = sf.Program(3)\n",
    "\n",
    "alpha = 0.414 + 0.414j\n",
    "r = np.abs(alpha)\n",
    "phi = np.angle(alpha)"
   ]
  },
  {
   "cell_type": "code",
   "execution_count": 3,
   "id": "fb946721",
   "metadata": {},
   "outputs": [],
   "source": [
    "with prog.context as q:\n",
    "    # prepare initial states\n",
    "    Coherent(r, phi) | q[0]\n",
    "    Squeezed(-2) | q[1]\n",
    "    Squeezed(2) | q[2]\n",
    "\n",
    "    # apply gates\n",
    "    BS = BSgate(pi/4, pi)\n",
    "    BS | (q[1], q[2])\n",
    "    BS | (q[0], q[1])\n",
    "\n",
    "    # Perform homodyne measurements\n",
    "    MeasureX | q[0]\n",
    "    MeasureP | q[1]\n",
    "\n",
    "    # Displacement gates conditioned on\n",
    "    # the measurements\n",
    "    Xgate(sqrt(2) * q[0].par) | q[2]\n",
    "    Zgate(sqrt(2) * q[1].par) | q[2]"
   ]
  },
  {
   "cell_type": "code",
   "execution_count": 4,
   "id": "47259652",
   "metadata": {},
   "outputs": [],
   "source": [
    "eng = sf.Engine('fock', backend_options={'cutoff_dim': 15})\n",
    "result = eng.run(prog, shots=1, modes=None, compile_options={})"
   ]
  },
  {
   "cell_type": "code",
   "execution_count": 5,
   "id": "0204fff3",
   "metadata": {},
   "outputs": [
    {
     "name": "stdout",
     "output_type": "stream",
     "text": [
      "[[ 1.93671937 -2.80712807]]\n"
     ]
    }
   ],
   "source": [
    "print(result.samples)"
   ]
  },
  {
   "cell_type": "code",
   "execution_count": 6,
   "id": "7f4bbf99",
   "metadata": {},
   "outputs": [
    {
     "name": "stdout",
     "output_type": "stream",
     "text": [
      "<FockState: num_modes=3, cutoff=15, pure=False, hbar=2>\n"
     ]
    }
   ],
   "source": [
    "print(result.state)\n",
    "state = result.state\n"
   ]
  },
  {
   "cell_type": "code",
   "execution_count": 7,
   "id": "8bb6baa3",
   "metadata": {},
   "outputs": [
    {
     "name": "stdout",
     "output_type": "stream",
     "text": [
      "(15, 15, 15, 15, 15, 15)\n"
     ]
    }
   ],
   "source": [
    "print(state.dm().shape)"
   ]
  },
  {
   "cell_type": "code",
   "execution_count": 8,
   "id": "b8bffe9d",
   "metadata": {},
   "outputs": [
    {
     "name": "stdout",
     "output_type": "stream",
     "text": [
      "(15, 15)\n"
     ]
    }
   ],
   "source": [
    "rho2 = np.einsum('kkllij->ij', state.dm())\n",
    "print(rho2.shape)"
   ]
  },
  {
   "cell_type": "code",
   "execution_count": 9,
   "id": "94df6533",
   "metadata": {},
   "outputs": [
    {
     "name": "stdout",
     "output_type": "stream",
     "text": [
      "[9.17718062e-04 2.55094265e-03 1.03791955e-04 1.77224902e-03\n",
      " 4.39217662e-03 8.50748969e-03 1.90662092e-02 3.58066523e-02\n",
      " 5.62680888e-02 7.93617122e-02 9.89591392e-02 1.07758975e-01\n",
      " 1.07310401e-01 1.03363415e-01 9.65659896e-02]\n"
     ]
    }
   ],
   "source": [
    "probs = np.real_if_close(np.diagonal(rho2))\n",
    "print(probs)"
   ]
  },
  {
   "cell_type": "code",
   "execution_count": 14,
   "id": "e9b620b8",
   "metadata": {},
   "outputs": [
    {
     "data": {
      "image/png": "[encoded data removed]",
      "text/plain": [
       "<Figure size 432x288 with 1 Axes>"
      ]
     },
     "metadata": {
      "needs_background": "light"
     },
     "output_type": "display_data"
    }
   ],
   "source": [
    "from matplotlib import pyplot as plt\n",
    "plt.bar(range(10), probs[:10])\n",
    "plt.xlabel('Fock state')\n",
    "plt.ylabel('Marginal probability')\n",
    "plt.title('Mode 2')\n",
    "plt.show()"
   ]
  },
  {
   "cell_type": "code",
   "execution_count": null,
   "id": "46711df4",
   "metadata": {},
   "outputs": [],
   "source": []
  }
 ],
 "metadata": {
  "kernelspec": {
   "display_name": "Python 3 (ipykernel)",
   "language": "python",
   "name": "python3"
  },
  "language_info": {
   "codemirror_mode": {
    "name": "ipython",
    "version": 3
   },
   "file_extension": ".py",
   "mimetype": "text/x-python",
   "name": "python",
   "nbconvert_exporter": "python",
   "pygments_lexer": "ipython3",
   "version": "3.10.4"
  }
 },
 "nbformat": 4,
 "nbformat_minor": 5
}
